{
 "cells": [
  {
   "cell_type": "markdown",
   "id": "532ef400-a8d0-4e49-b5e9-7beb1c8af505",
   "metadata": {},
   "source": [
    "### Implement a solution for a Constraint Satisfaction Problem using Branch and Bound and Backtracking for n-queens problem or a graph coloring problem."
   ]
  },
  {
   "cell_type": "code",
   "execution_count": 1,
   "id": "6f8eed7a-8d25-4e9e-837d-0b610d84a0c0",
   "metadata": {},
   "outputs": [
    {
     "name": "stdin",
     "output_type": "stream",
     "text": [
      "Enter the value of N (e.g., 4, 8):  4\n"
     ]
    },
    {
     "name": "stdout",
     "output_type": "stream",
     "text": [
      "\n",
      "Solution:\n",
      ". Q . .\n",
      ". . . Q\n",
      "Q . . .\n",
      ". . Q .\n",
      "\n",
      "\n",
      "Solution:\n",
      ". . Q .\n",
      "Q . . .\n",
      ". . . Q\n",
      ". Q . .\n",
      "\n",
      "Total Solutions for 4-Queens: 2\n"
     ]
    }
   ],
   "source": [
    "def is_safe(board, row, col, n):\n",
    "    # Check column\n",
    "    for i in range(row):\n",
    "        if board[i][col] == 1:\n",
    "            return False\n",
    "\n",
    "    # Check left diagonal\n",
    "    for i, j in zip(range(row-1, -1, -1), range(col-1, -1, -1)):\n",
    "        if board[i][j] == 1:\n",
    "            return False\n",
    "\n",
    "    # Check right diagonal\n",
    "    for i, j in zip(range(row-1, -1, -1), range(col+1, n)):\n",
    "        if board[i][j] == 1:\n",
    "            return False\n",
    "\n",
    "    return True\n",
    "\n",
    "# Utility to print board\n",
    "def print_board(board):\n",
    "    print(\"\\nSolution:\")\n",
    "    for row in board:\n",
    "        print(\" \".join('Q' if col == 1 else '.' for col in row))\n",
    "    print()\n",
    "\n",
    "# Recursive Backtracking Solver with optional Branch and Bound\n",
    "def solve_n_queens(board, row, n, solutions):\n",
    "    if row == n:\n",
    "        solutions.append([row[:] for row in board])\n",
    "        print_board(board)\n",
    "        return\n",
    "\n",
    "    for col in range(n):\n",
    "        if is_safe(board, row, col, n):\n",
    "            board[row][col] = 1  # Place queen\n",
    "            solve_n_queens(board, row + 1, n, solutions)\n",
    "            board[row][col] = 0  # Backtrack\n",
    "\n",
    "# Main function\n",
    "def n_queens_csp(n):\n",
    "    board = [[0 for _ in range(n)] for _ in range(n)]\n",
    "    solutions = []\n",
    "    solve_n_queens(board, 0, n, solutions)\n",
    "    print(f\"Total Solutions for {n}-Queens: {len(solutions)}\")\n",
    "\n",
    "# Run the solver\n",
    "if __name__ == \"__main__\":\n",
    "    try:\n",
    "        n = int(input(\"Enter the value of N (e.g., 4, 8): \"))\n",
    "        if n < 1:\n",
    "            print(\"N must be at least 1.\")\n",
    "        else:\n",
    "            n_queens_csp(n)\n",
    "    except ValueError:\n",
    "        print(\"Please enter a valid integer.\")\n"
   ]
  },
  {
   "cell_type": "code",
   "execution_count": null,
   "id": "8c57b871-caef-42e0-960f-17cd84caa859",
   "metadata": {},
   "outputs": [],
   "source": []
  }
 ],
 "metadata": {
  "kernelspec": {
   "display_name": "Python 3 (ipykernel)",
   "language": "python",
   "name": "python3"
  },
  "language_info": {
   "codemirror_mode": {
    "name": "ipython",
    "version": 3
   },
   "file_extension": ".py",
   "mimetype": "text/x-python",
   "name": "python",
   "nbconvert_exporter": "python",
   "pygments_lexer": "ipython3",
   "version": "3.13.3"
  }
 },
 "nbformat": 4,
 "nbformat_minor": 5
}
