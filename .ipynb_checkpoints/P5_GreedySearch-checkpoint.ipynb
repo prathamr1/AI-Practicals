{
 "cells": [
  {
   "cell_type": "markdown",
   "id": "ed4956c7-ffcd-43f9-856f-dbc8e5cb5219",
   "metadata": {},
   "source": [
    "### Implement Greedy search algorithm for any of the following application: Selection Sort"
   ]
  },
  {
   "cell_type": "code",
   "execution_count": 1,
   "id": "b6b394b6-2080-4988-82ac-7ae236fc1c9c",
   "metadata": {},
   "outputs": [
    {
     "name": "stdout",
     "output_type": "stream",
     "text": [
      "Original array: [64, 25, 12, 22, 11]\n",
      "Step 1: [11, 25, 12, 22, 64]\n",
      "Step 2: [11, 12, 25, 22, 64]\n",
      "Step 3: [11, 12, 22, 25, 64]\n",
      "Step 4: [11, 12, 22, 25, 64]\n",
      "Step 5: [11, 12, 22, 25, 64]\n",
      "Sorted array: [11, 12, 22, 25, 64]\n"
     ]
    }
   ],
   "source": [
    "# Greedy Selection Sort Algorithm\n",
    "def selection_sort(arr):\n",
    "    n = len(arr)\n",
    "    for i in range(n):\n",
    "        # Assume the current index has the minimum\n",
    "        min_index = i\n",
    "\n",
    "        # Greedily search for the smallest element in the remaining unsorted array\n",
    "        for j in range(i + 1, n):\n",
    "            if arr[j] < arr[min_index]:\n",
    "                min_index = j\n",
    "\n",
    "        # Swap the found minimum with the first unsorted element\n",
    "        arr[i], arr[min_index] = arr[min_index], arr[i]\n",
    "\n",
    "        # Debug output to show steps\n",
    "        print(f\"Step {i+1}: {arr}\")\n",
    "\n",
    "# Example usage\n",
    "if __name__ == \"__main__\":\n",
    "    arr = [64, 25, 12, 22, 11]\n",
    "    print(\"Original array:\", arr)\n",
    "    selection_sort(arr)\n",
    "    print(\"Sorted array:\", arr)\n"
   ]
  },
  {
   "cell_type": "code",
   "execution_count": null,
   "id": "60febc15-4f8b-46f3-a347-230c4cbd6be2",
   "metadata": {},
   "outputs": [],
   "source": []
  }
 ],
 "metadata": {
  "kernelspec": {
   "display_name": "Python 3 (ipykernel)",
   "language": "python",
   "name": "python3"
  },
  "language_info": {
   "codemirror_mode": {
    "name": "ipython",
    "version": 3
   },
   "file_extension": ".py",
   "mimetype": "text/x-python",
   "name": "python",
   "nbconvert_exporter": "python",
   "pygments_lexer": "ipython3",
   "version": "3.13.3"
  }
 },
 "nbformat": 4,
 "nbformat_minor": 5
}
