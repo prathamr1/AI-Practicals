{
 "cells": [
  {
   "cell_type": "markdown",
   "id": "12ba746e-555e-4135-b186-b23a80bca6b9",
   "metadata": {},
   "source": [
    "### Implement Alpha-Beta Tree search for any game search problem."
   ]
  },
  {
   "cell_type": "code",
   "execution_count": 2,
   "id": "b9ed6f87-d0c1-4339-b2a9-a2bb850daf44",
   "metadata": {},
   "outputs": [
    {
     "name": "stdout",
     "output_type": "stream",
     "text": [
      "You are O, AI is X. Let's play!\n",
      " | | \n",
      "-----\n",
      " | | \n",
      "-----\n",
      " | | \n",
      "-----\n"
     ]
    },
    {
     "name": "stdin",
     "output_type": "stream",
     "text": [
      "Enter your move row (0–2):  0\n",
      "Enter your move col (0–2):  0\n"
     ]
    },
    {
     "name": "stdout",
     "output_type": "stream",
     "text": [
      "O| | \n",
      "-----\n",
      " |X| \n",
      "-----\n",
      " | | \n",
      "-----\n"
     ]
    },
    {
     "name": "stdin",
     "output_type": "stream",
     "text": [
      "Enter your move row (0–2):  1\n",
      "Enter your move col (0–2):  1\n"
     ]
    },
    {
     "name": "stdout",
     "output_type": "stream",
     "text": [
      "Invalid move. Try again.\n",
      "O| | \n",
      "-----\n",
      " |X| \n",
      "-----\n",
      " | | \n",
      "-----\n"
     ]
    },
    {
     "name": "stdin",
     "output_type": "stream",
     "text": [
      "Enter your move row (0–2):  1\n",
      "Enter your move col (0–2):  0\n"
     ]
    },
    {
     "name": "stdout",
     "output_type": "stream",
     "text": [
      "O| | \n",
      "-----\n",
      "O|X| \n",
      "-----\n",
      "X| | \n",
      "-----\n"
     ]
    },
    {
     "name": "stdin",
     "output_type": "stream",
     "text": [
      "Enter your move row (0–2):  0\n",
      "Enter your move col (0–2):  2\n"
     ]
    },
    {
     "name": "stdout",
     "output_type": "stream",
     "text": [
      "O|X|O\n",
      "-----\n",
      "O|X| \n",
      "-----\n",
      "X| | \n",
      "-----\n"
     ]
    },
    {
     "name": "stdin",
     "output_type": "stream",
     "text": [
      "Enter your move row (0–2):  2\n",
      "Enter your move col (0–2):  1\n"
     ]
    },
    {
     "name": "stdout",
     "output_type": "stream",
     "text": [
      "O|X|O\n",
      "-----\n",
      "O|X|X\n",
      "-----\n",
      "X|O| \n",
      "-----\n"
     ]
    },
    {
     "name": "stdin",
     "output_type": "stream",
     "text": [
      "Enter your move row (0–2):  2\n",
      "Enter your move col (0–2):  2\n"
     ]
    },
    {
     "name": "stdout",
     "output_type": "stream",
     "text": [
      "O|X|O\n",
      "-----\n",
      "O|X|X\n",
      "-----\n",
      "X|O|O\n",
      "-----\n",
      "O|X|O\n",
      "-----\n",
      "O|X|X\n",
      "-----\n",
      "X|O|O\n",
      "-----\n",
      "It's a Draw!\n"
     ]
    }
   ],
   "source": [
    "import math\n",
    "\n",
    "# Initialize board\n",
    "board = [[' ' for _ in range(3)] for _ in range(3)]\n",
    "\n",
    "# Print the board\n",
    "def print_board(b):\n",
    "    for row in b:\n",
    "        print('|'.join(row))\n",
    "        print('-' * 5)\n",
    "\n",
    "# Check if any moves are left\n",
    "def is_moves_left(b):\n",
    "    return any(cell == ' ' for row in b for cell in row)\n",
    "\n",
    "# Evaluate the board\n",
    "def evaluate(b):\n",
    "    for i in range(3):\n",
    "        # Rows\n",
    "        if b[i][0] == b[i][1] == b[i][2] != ' ':\n",
    "            return 10 if b[i][0] == 'X' else -10\n",
    "        # Columns\n",
    "        if b[0][i] == b[1][i] == b[2][i] != ' ':\n",
    "            return 10 if b[0][i] == 'X' else -10\n",
    "    # Diagonals\n",
    "    if b[0][0] == b[1][1] == b[2][2] != ' ':\n",
    "        return 10 if b[0][0] == 'X' else -10\n",
    "    if b[0][2] == b[1][1] == b[2][0] != ' ':\n",
    "        return 10 if b[0][2] == 'X' else -10\n",
    "    return 0\n",
    "\n",
    "# Minimax with Alpha-Beta Pruning\n",
    "def minimax(b, depth, is_max, alpha, beta):\n",
    "    score = evaluate(b)\n",
    "\n",
    "    # Terminal state\n",
    "    if score != 0 or not is_moves_left(b):\n",
    "        return score\n",
    "\n",
    "    if is_max:  # AI's turn\n",
    "        max_eval = -math.inf\n",
    "        for i in range(3):\n",
    "            for j in range(3):\n",
    "                if b[i][j] == ' ':\n",
    "                    b[i][j] = 'X'\n",
    "                    eval_val = minimax(b, depth + 1, False, alpha, beta)\n",
    "                    b[i][j] = ' '\n",
    "                    max_eval = max(max_eval, eval_val)\n",
    "                    alpha = max(alpha, eval_val)\n",
    "                    if beta <= alpha:\n",
    "                        break\n",
    "        return max_eval\n",
    "    else:  # Human's turn\n",
    "        min_eval = math.inf\n",
    "        for i in range(3):\n",
    "            for j in range(3):\n",
    "                if b[i][j] == ' ':\n",
    "                    b[i][j] = 'O'\n",
    "                    eval_val = minimax(b, depth + 1, True, alpha, beta)\n",
    "                    b[i][j] = ' '\n",
    "                    min_eval = min(min_eval, eval_val)\n",
    "                    beta = min(beta, eval_val)\n",
    "                    if beta <= alpha:\n",
    "                        break\n",
    "        return min_eval\n",
    "\n",
    "# Find best move for AI\n",
    "def find_best_move(b):\n",
    "    best_val = -math.inf\n",
    "    best_move = (-1, -1)\n",
    "\n",
    "    for i in range(3):\n",
    "        for j in range(3):\n",
    "            if b[i][j] == ' ':\n",
    "                b[i][j] = 'X'\n",
    "                move_val = minimax(b, 0, False, -math.inf, math.inf)\n",
    "                b[i][j] = ' '\n",
    "                if move_val > best_val:\n",
    "                    best_val = move_val\n",
    "                    best_move = (i, j)\n",
    "\n",
    "    return best_move\n",
    "\n",
    "# Play the game\n",
    "def play():\n",
    "    print(\"You are O, AI is X. Let's play!\")\n",
    "    while True:\n",
    "        print_board(board)\n",
    "        if evaluate(board) != 0 or not is_moves_left(board):\n",
    "            break\n",
    "\n",
    "        # Human move\n",
    "        try:\n",
    "            row = int(input(\"Enter your move row (0–2): \"))\n",
    "            col = int(input(\"Enter your move col (0–2): \"))\n",
    "        except ValueError:\n",
    "            print(\"Invalid input! Please enter numbers 0, 1, or 2.\")\n",
    "            continue\n",
    "\n",
    "        if 0 <= row < 3 and 0 <= col < 3 and board[row][col] == ' ':\n",
    "            board[row][col] = 'O'\n",
    "        else:\n",
    "            print(\"Invalid move. Try again.\")\n",
    "            continue\n",
    "\n",
    "        # AI move\n",
    "        if is_moves_left(board) and evaluate(board) == 0:\n",
    "            ai_move = find_best_move(board)\n",
    "            board[ai_move[0]][ai_move[1]] = 'X'\n",
    "\n",
    "    # Final state\n",
    "    print_board(board)\n",
    "    final_score = evaluate(board)\n",
    "    if final_score == 10:\n",
    "        print(\"AI Wins!\")\n",
    "    elif final_score == -10:\n",
    "        print(\"You Win!\")\n",
    "    else:\n",
    "        print(\"It's a Draw!\")\n",
    "\n",
    "# Run the game\n",
    "if __name__ == \"__main__\":\n",
    "    play()\n"
   ]
  },
  {
   "cell_type": "code",
   "execution_count": null,
   "id": "a028302c-89bc-4299-8124-d4e3c56e3499",
   "metadata": {},
   "outputs": [],
   "source": []
  }
 ],
 "metadata": {
  "kernelspec": {
   "display_name": "Python 3 (ipykernel)",
   "language": "python",
   "name": "python3"
  },
  "language_info": {
   "codemirror_mode": {
    "name": "ipython",
    "version": 3
   },
   "file_extension": ".py",
   "mimetype": "text/x-python",
   "name": "python",
   "nbconvert_exporter": "python",
   "pygments_lexer": "ipython3",
   "version": "3.13.3"
  }
 },
 "nbformat": 4,
 "nbformat_minor": 5
}
