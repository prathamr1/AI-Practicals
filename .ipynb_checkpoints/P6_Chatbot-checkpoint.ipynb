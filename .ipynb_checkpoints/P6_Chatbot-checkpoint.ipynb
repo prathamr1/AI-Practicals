{
 "cells": [
  {
   "cell_type": "markdown",
   "id": "b7b12246-d2b4-43c8-8627-c945f8bb180c",
   "metadata": {},
   "source": [
    "### Develop an elementary chatbot for any suitable customer interaction application"
   ]
  },
  {
   "cell_type": "code",
   "execution_count": 1,
   "id": "0e63b32b-3915-4a0a-90b3-9edf75be9d32",
   "metadata": {},
   "outputs": [
    {
     "name": "stdout",
     "output_type": "stream",
     "text": [
      "Welcome to QuickHelp Customer Support!\n",
      "Type 'exit' to end the chat.\n",
      "\n"
     ]
    },
    {
     "name": "stdin",
     "output_type": "stream",
     "text": [
      "You:  hello\n"
     ]
    },
    {
     "name": "stdout",
     "output_type": "stream",
     "text": [
      "Bot: Hello! How can I assist you today?\n"
     ]
    },
    {
     "name": "stdin",
     "output_type": "stream",
     "text": [
      "You:  time\n"
     ]
    },
    {
     "name": "stdout",
     "output_type": "stream",
     "text": [
      "Bot: I'm sorry, I didn't understand that. Could you please rephrase?\n"
     ]
    },
    {
     "name": "stdin",
     "output_type": "stream",
     "text": [
      "You:  What is the store timing ?\n"
     ]
    },
    {
     "name": "stdout",
     "output_type": "stream",
     "text": [
      "Bot: We are open from 9 AM to 6 PM, Monday to Saturday.\n"
     ]
    },
    {
     "name": "stdin",
     "output_type": "stream",
     "text": [
      "You:  What are the price range for the items ?\n"
     ]
    },
    {
     "name": "stdout",
     "output_type": "stream",
     "text": [
      "Bot: Our pricing starts at ₹499. Would you like a detailed quote?\n"
     ]
    },
    {
     "name": "stdin",
     "output_type": "stream",
     "text": [
      "You:  yes\n"
     ]
    },
    {
     "name": "stdout",
     "output_type": "stream",
     "text": [
      "Bot: I'm sorry, I didn't understand that. Could you please rephrase?\n"
     ]
    },
    {
     "name": "stdin",
     "output_type": "stream",
     "text": [
      "You:  What is the stores address ?\n"
     ]
    },
    {
     "name": "stdout",
     "output_type": "stream",
     "text": [
      "Bot: We are located at MG Road, Pune.\n"
     ]
    },
    {
     "name": "stdin",
     "output_type": "stream",
     "text": [
      "You:  exit\n"
     ]
    },
    {
     "name": "stdout",
     "output_type": "stream",
     "text": [
      "Bot: Thank you for chatting with us. Have a great day!\n"
     ]
    }
   ],
   "source": [
    "def chatbot():\n",
    "    print(\"Welcome to QuickHelp Customer Support!\")\n",
    "    print(\"Type 'exit' to end the chat.\\n\")\n",
    "\n",
    "    while True:\n",
    "        user_input = input(\"You: \").lower()\n",
    "\n",
    "        if \"hello\" in user_input or \"hi\" in user_input:\n",
    "            print(\"Bot: Hello! How can I assist you today?\")\n",
    "\n",
    "        elif \"hours\" in user_input or \"timing\" in user_input:\n",
    "            print(\"Bot: We are open from 9 AM to 6 PM, Monday to Saturday.\")\n",
    "\n",
    "        elif \"price\" in user_input or \"cost\" in user_input:\n",
    "            print(\"Bot: Our pricing starts at ₹499. Would you like a detailed quote?\")\n",
    "\n",
    "        elif \"location\" in user_input or \"address\" in user_input:\n",
    "            print(\"Bot: We are located at MG Road, Pune.\")\n",
    "\n",
    "        elif \"exit\" in user_input:\n",
    "            print(\"Bot: Thank you for chatting with us. Have a great day!\")\n",
    "            break\n",
    "\n",
    "        else:\n",
    "            print(\"Bot: I'm sorry, I didn't understand that. Could you please rephrase?\")\n",
    "\n",
    "# Run the chatbot\n",
    "if __name__ == \"__main__\":\n",
    "    chatbot()\n"
   ]
  },
  {
   "cell_type": "code",
   "execution_count": null,
   "id": "ecf58d2f-9809-4b9b-944c-75e37745cfac",
   "metadata": {},
   "outputs": [],
   "source": []
  }
 ],
 "metadata": {
  "kernelspec": {
   "display_name": "Python 3 (ipykernel)",
   "language": "python",
   "name": "python3"
  },
  "language_info": {
   "codemirror_mode": {
    "name": "ipython",
    "version": 3
   },
   "file_extension": ".py",
   "mimetype": "text/x-python",
   "name": "python",
   "nbconvert_exporter": "python",
   "pygments_lexer": "ipython3",
   "version": "3.13.3"
  }
 },
 "nbformat": 4,
 "nbformat_minor": 5
}
