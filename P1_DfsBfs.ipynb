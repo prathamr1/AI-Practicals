{
 "cells": [
  {
   "cell_type": "markdown",
   "id": "fa5c96a7-de5d-4386-9dbe-fa695279c178",
   "metadata": {},
   "source": [
    "## Implement depth first search algorithm and Breadth First Search algorithm. Use an undirected graph and develop a recursive algorithm for searching all the vertices of a graph or tree data structure."
   ]
  },
  {
   "cell_type": "code",
   "execution_count": 2,
   "id": "23ad8be3-ce5f-4638-9647-6219139eef5f",
   "metadata": {},
   "outputs": [
    {
     "name": "stdout",
     "output_type": "stream",
     "text": [
      "DFS (recursive):\n",
      "A B D E F C \n",
      "BFS (iterative):\n",
      "A B C D E F "
     ]
    }
   ],
   "source": [
    "from collections import deque\n",
    "\n",
    "# -------------------------------\n",
    "# Define the graph as an adjacency list\n",
    "# -------------------------------\n",
    "graph = {\n",
    "    'A': ['B', 'C'],\n",
    "    'B': ['A', 'D', 'E'],\n",
    "    'C': ['A', 'F'],\n",
    "    'D': ['B'],\n",
    "    'E': ['B', 'F'],\n",
    "    'F': ['C', 'E']\n",
    "}\n",
    "\n",
    "# -------------------------------\n",
    "# Depth First Search (DFS) - Recursive\n",
    "# -------------------------------\n",
    "def dfs_recursive(graph, node, visited=None):\n",
    "    if visited is None:\n",
    "        visited = set()\n",
    "\n",
    "    visited.add(node)\n",
    "    print(node, end=' ')  # Process the current node\n",
    "\n",
    "    for neighbor in graph[node]:\n",
    "        if neighbor not in visited:\n",
    "            dfs_recursive(graph, neighbor, visited)\n",
    "\n",
    "# -------------------------------\n",
    "# DFS Wrapper for Disconnected Graphs\n",
    "# -------------------------------\n",
    "def dfs_all(graph):\n",
    "    visited = set()\n",
    "    for node in graph:\n",
    "        if node not in visited:\n",
    "            dfs_recursive(graph, node, visited)\n",
    "\n",
    "# -------------------------------\n",
    "# Breadth First Search (BFS) - Iterative\n",
    "# -------------------------------\n",
    "def bfs(graph, start):\n",
    "    visited = set()\n",
    "    queue = deque([start])\n",
    "\n",
    "    while queue:\n",
    "        node = queue.popleft()\n",
    "        if node not in visited:\n",
    "            print(node, end=' ')\n",
    "            visited.add(node)\n",
    "            # Add unvisited neighbors to the queue\n",
    "            queue.extend(neighbor for neighbor in graph[node] if neighbor not in visited)\n",
    "\n",
    "# -------------------------------\n",
    "# Main function to run DFS and BFS\n",
    "# -------------------------------\n",
    "def main():\n",
    "    print(\"DFS (recursive):\")\n",
    "    dfs_recursive(graph, 'A')  # or use dfs_all(graph) for disconnected graphs\n",
    "    print(\"\\nBFS (iterative):\")\n",
    "    bfs(graph, 'A')\n",
    "\n",
    "# -------------------------------\n",
    "# Entry point\n",
    "# -------------------------------\n",
    "if __name__ == \"__main__\":\n",
    "    main()\n"
   ]
  }
 ],
 "metadata": {
  "kernelspec": {
   "display_name": "Python 3 (ipykernel)",
   "language": "python",
   "name": "python3"
  },
  "language_info": {
   "codemirror_mode": {
    "name": "ipython",
    "version": 3
   },
   "file_extension": ".py",
   "mimetype": "text/x-python",
   "name": "python",
   "nbconvert_exporter": "python",
   "pygments_lexer": "ipython3",
   "version": "3.13.3"
  }
 },
 "nbformat": 4,
 "nbformat_minor": 5
}
