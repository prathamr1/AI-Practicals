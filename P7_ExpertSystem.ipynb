{
 "cells": [
  {
   "cell_type": "markdown",
   "id": "44236bf6-88a1-433c-a1c2-8305d1ae742b",
   "metadata": {},
   "source": [
    "### Mini Project: Implement any one of the following Expert System\n",
    "- Information management\n",
    "- Hospitals and medical facilities\n",
    "- Help desks management\n",
    "- Employee performance evaluation\n",
    "- Stock market trading\n",
    "- Airline scheduling and cargo schedules"
   ]
  },
  {
   "cell_type": "code",
   "execution_count": 1,
   "id": "7a0131c0-dee7-476e-a859-77f74fa4a0e4",
   "metadata": {},
   "outputs": [
    {
     "name": "stdout",
     "output_type": "stream",
     "text": [
      "Welcome to MedBot – Basic Medical Expert System\n",
      "Please answer the following questions with 'yes' or 'no'\n",
      "\n"
     ]
    },
    {
     "name": "stdin",
     "output_type": "stream",
     "text": [
      "Do you have a fever?  no\n",
      "Do you have a cough?  yes\n",
      "Are you experiencing shortness of breath?  no\n",
      "Do you have chest pain?  yes\n"
     ]
    },
    {
     "name": "stdout",
     "output_type": "stream",
     "text": [
      "\n",
      "Diagnosis:\n",
      "→ Symptoms are not conclusive. Please monitor and consult a physician if they persist.\n"
     ]
    }
   ],
   "source": [
    "def medical_expert_system():\n",
    "    print(\"Welcome to MedBot – Basic Medical Expert System\")\n",
    "    print(\"Please answer the following questions with 'yes' or 'no'\\n\")\n",
    "\n",
    "    # Input from user\n",
    "    fever = input(\"Do you have a fever? \").strip().lower()\n",
    "    cough = input(\"Do you have a cough? \").strip().lower()\n",
    "    breath = input(\"Are you experiencing shortness of breath? \").strip().lower()\n",
    "    pain = input(\"Do you have chest pain? \").strip().lower()\n",
    "\n",
    "    # Rule-based diagnosis\n",
    "    print(\"\\nDiagnosis:\")\n",
    "    if fever == \"yes\" and cough == \"yes\" and breath == \"yes\":\n",
    "        print(\"→ You may have symptoms of a respiratory infection. Please consult a doctor immediately.\")\n",
    "    elif fever == \"yes\" and cough == \"yes\":\n",
    "        print(\"→ You may have the flu or a viral infection. Rest and hydration are recommended.\")\n",
    "    elif pain == \"yes\" and breath == \"yes\":\n",
    "        print(\"→ Possible cardiac issue. Seek emergency medical attention.\")\n",
    "    else:\n",
    "        print(\"→ Symptoms are not conclusive. Please monitor and consult a physician if they persist.\")\n",
    "\n",
    "# Run the expert system\n",
    "if __name__ == \"__main__\":\n",
    "    medical_expert_system()\n"
   ]
  },
  {
   "cell_type": "code",
   "execution_count": null,
   "id": "42c5c3b2-4ade-4ef0-8f23-29ccc3a0094f",
   "metadata": {},
   "outputs": [],
   "source": []
  }
 ],
 "metadata": {
  "kernelspec": {
   "display_name": "Python 3 (ipykernel)",
   "language": "python",
   "name": "python3"
  },
  "language_info": {
   "codemirror_mode": {
    "name": "ipython",
    "version": 3
   },
   "file_extension": ".py",
   "mimetype": "text/x-python",
   "name": "python",
   "nbconvert_exporter": "python",
   "pygments_lexer": "ipython3",
   "version": "3.13.3"
  }
 },
 "nbformat": 4,
 "nbformat_minor": 5
}
