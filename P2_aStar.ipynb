{
 "cells": [
  {
   "cell_type": "markdown",
   "id": "c9f013c7-9917-4ba6-941d-065c0f87302a",
   "metadata": {},
   "source": [
    "### Implement A star (A*) Algorithm for any game search problem."
   ]
  },
  {
   "cell_type": "code",
   "execution_count": 1,
   "id": "4322e578-bcbb-448b-b29e-503b1dce8d11",
   "metadata": {},
   "outputs": [
    {
     "name": "stdout",
     "output_type": "stream",
     "text": [
      "A* Path: [(0, 0), (1, 0), (2, 0), (2, 1), (2, 2), (3, 2), (4, 2), (4, 3), (4, 4)]\n",
      "\n",
      "Maze with path:\n",
      "* 1 0 0 0\n",
      "* 1 0 1 0\n",
      "* * * 1 0\n",
      "1 1 * 1 0\n",
      "0 0 * * *\n"
     ]
    }
   ],
   "source": [
    "import heapq\n",
    "\n",
    "# Define the grid: 0 = free path, 1 = wall\n",
    "maze = [\n",
    "    [0, 1, 0, 0, 0],\n",
    "    [0, 1, 0, 1, 0],\n",
    "    [0, 0, 0, 1, 0],\n",
    "    [1, 1, 0, 1, 0],\n",
    "    [0, 0, 0, 0, 0]\n",
    "]\n",
    "\n",
    "start = (0, 0)\n",
    "goal = (4, 4)\n",
    "\n",
    "# Heuristic function: Manhattan distance\n",
    "def heuristic(a, b):\n",
    "    return abs(a[0] - b[0]) + abs(a[1] - b[1])\n",
    "\n",
    "# A* Algorithm\n",
    "def astar(maze, start, goal):\n",
    "    rows, cols = len(maze), len(maze[0])\n",
    "    open_set = []\n",
    "    heapq.heappush(open_set, (heuristic(start, goal), 0, start, [start]))\n",
    "    visited = set()\n",
    "\n",
    "    while open_set:\n",
    "        f, g, current, path = heapq.heappop(open_set)\n",
    "\n",
    "        if current in visited:\n",
    "            continue\n",
    "\n",
    "        visited.add(current)\n",
    "\n",
    "        if current == goal:\n",
    "            return path\n",
    "\n",
    "        for dx, dy in [(-1, 0), (1, 0), (0, -1), (0, 1)]:\n",
    "            x, y = current[0] + dx, current[1] + dy\n",
    "            next_node = (x, y)\n",
    "\n",
    "            if 0 <= x < rows and 0 <= y < cols and maze[x][y] == 0:\n",
    "                if next_node not in visited:\n",
    "                    new_g = g + 1\n",
    "                    new_f = new_g + heuristic(next_node, goal)\n",
    "                    heapq.heappush(open_set, (new_f, new_g, next_node, path + [next_node]))\n",
    "\n",
    "    return None\n",
    "\n",
    "# Run the algorithm\n",
    "path = astar(maze, start, goal)\n",
    "\n",
    "# Output the result\n",
    "if path:\n",
    "    print(\"A* Path:\", path)\n",
    "\n",
    "    # Optional: visualize the path in the maze\n",
    "    maze_path = [row[:] for row in maze]  # Copy maze\n",
    "    for x, y in path:\n",
    "        maze_path[x][y] = '*'\n",
    "    print(\"\\nMaze with path:\")\n",
    "    for row in maze_path:\n",
    "        print(' '.join(str(cell) if cell != '*' else '*' for cell in row))\n",
    "else:\n",
    "    print(\"No path found.\")\n"
   ]
  },
  {
   "cell_type": "code",
   "execution_count": null,
   "id": "3347338c-f44b-4f2b-b6c7-b8a0150ee776",
   "metadata": {},
   "outputs": [],
   "source": []
  }
 ],
 "metadata": {
  "kernelspec": {
   "display_name": "Python 3 (ipykernel)",
   "language": "python",
   "name": "python3"
  },
  "language_info": {
   "codemirror_mode": {
    "name": "ipython",
    "version": 3
   },
   "file_extension": ".py",
   "mimetype": "text/x-python",
   "name": "python",
   "nbconvert_exporter": "python",
   "pygments_lexer": "ipython3",
   "version": "3.13.3"
  }
 },
 "nbformat": 4,
 "nbformat_minor": 5
}
